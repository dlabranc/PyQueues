{
 "cells": [
  {
   "cell_type": "code",
   "execution_count": 266,
   "id": "cd4148b1",
   "metadata": {},
   "outputs": [],
   "source": [
    "import requests\n",
    "\n",
    "def submit(script_path, software, IP, port):\n",
    "    with open(script_path, \"rb\") as f:\n",
    "        files = {\"script\": f}\n",
    "        data = {\"software\": software}\n",
    "        r = requests.post(f\"http://{IP}:{port}/submit\", files=files, data=data)\n",
    "        print(r.json())\n",
    "    \n",
    "def check_all_statuses(IP, port):\n",
    "    r = requests.get(f\"http://{IP}:{port}/status/all\")\n",
    "    print(r.json())\n",
    "\n",
    "def check_job_status(job_id, IP, port):\n",
    "    r = requests.get(f\"http://{IP}:{port}/status/{job_id}\")\n",
    "    print(r.json())\n",
    "\n",
    "\n",
    "def get_result(job_id, IP, port, save_as=\"log.txt\"):\n",
    "    r = requests.get(f\"http://{IP}:{port}/result/{job_id}\")\n",
    "    with open(save_as, \"wb\") as f:\n",
    "        f.write(r.content)\n",
    "    print(f\"✅ Downloaded output to: {save_as}\")\n",
    "\n",
    "\n",
    "def download_zip(job_id, IP, port, save_as=None):\n",
    "    if save_as is None:\n",
    "        save_as = f\"{job_id}_results.zip\"\n",
    "\n",
    "    r = requests.get(f\"http://{IP}:{port}/download/{job_id}\")\n",
    "    if r.status_code == 200:\n",
    "        with open(save_as, \"wb\") as f:\n",
    "            f.write(r.content)\n",
    "        print(f\"✅ Downloaded ZIP to {save_as}\")\n",
    "    else:\n",
    "        print(\"❌ Error:\", r.status_code, r.text)"
   ]
  },
  {
   "cell_type": "code",
   "execution_count": 267,
   "id": "6cd77ddb",
   "metadata": {},
   "outputs": [
    {
     "name": "stdout",
     "output_type": "stream",
     "text": [
      "{'job_id': '1724_210525_ZAKSL', 'status': 'queued'}\n"
     ]
    }
   ],
   "source": [
    "submit(\"example_script.py\", \"ansys\", '127.0.0.1', 5000)"
   ]
  },
  {
   "cell_type": "code",
   "execution_count": 268,
   "id": "44d20728",
   "metadata": {},
   "outputs": [
    {
     "name": "stdout",
     "output_type": "stream",
     "text": [
      "{'1724_210525_ZAKSL': 'running', '398270a8-71e7-4f61-8b62-a59f5f09bc92': 'completed', '590939f9-530e-4bb6-89c2-5a8b7f77d260': 'completed', '9eb5295c-15f4-42ac-958c-3d4cbbd74afc': 'completed', 'bd679bb8-9733-4dac-b5c7-b29c6963d6df': 'completed', 'c4193939-9965-4b66-b676-2eee9ff36856': 'completed', 'd164bc8f-0a60-4578-bbf3-d1a59aff583f': 'completed', 'e887d020-aa98-4802-b09f-607b4298af84': 'completed'}\n"
     ]
    }
   ],
   "source": [
    "check_all_statuses('127.0.0.1', 5000)"
   ]
  },
  {
   "cell_type": "code",
   "execution_count": 269,
   "id": "10ea2dfb",
   "metadata": {},
   "outputs": [
    {
     "name": "stdout",
     "output_type": "stream",
     "text": [
      "✅ Downloaded output to: log.txt\n"
     ]
    }
   ],
   "source": [
    "get_result('c4193939-9965-4b66-b676-2eee9ff36856', '127.0.0.1', 5000)"
   ]
  },
  {
   "cell_type": "code",
   "execution_count": 270,
   "id": "912c0a14",
   "metadata": {},
   "outputs": [
    {
     "name": "stdout",
     "output_type": "stream",
     "text": [
      "✅ Downloaded ZIP to c4193939-9965-4b66-b676-2eee9ff36856_results.zip\n"
     ]
    }
   ],
   "source": [
    "download_zip('c4193939-9965-4b66-b676-2eee9ff36856', '127.0.0.1', 5000)"
   ]
  },
  {
   "cell_type": "code",
   "execution_count": 271,
   "id": "7e09b275",
   "metadata": {},
   "outputs": [
    {
     "name": "stdout",
     "output_type": "stream",
     "text": [
      "✅ Downloaded output to: log.txt\n"
     ]
    }
   ],
   "source": [
    "get_result('590939f9-530e-4bb6-89c2-5a8b7f77d260', '127.0.0.1', 5000)"
   ]
  }
 ],
 "metadata": {
  "kernelspec": {
   "display_name": "env_scheduler",
   "language": "python",
   "name": "python3"
  },
  "language_info": {
   "codemirror_mode": {
    "name": "ipython",
    "version": 3
   },
   "file_extension": ".py",
   "mimetype": "text/x-python",
   "name": "python",
   "nbconvert_exporter": "python",
   "pygments_lexer": "ipython3",
   "version": "3.9.13"
  }
 },
 "nbformat": 4,
 "nbformat_minor": 5
}
